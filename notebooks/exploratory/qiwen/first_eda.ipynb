{
 "cells": [
  {
   "cell_type": "code",
   "execution_count": 1,
   "metadata": {},
   "outputs": [],
   "source": [
    "import pandas as pd\n",
    "import matplotlib.pyplot as plt"
   ]
  },
  {
   "cell_type": "code",
   "execution_count": 2,
   "metadata": {},
   "outputs": [
    {
     "name": "stderr",
     "output_type": "stream",
     "text": [
      "<ipython-input-2-86a63a1ab3b0>:13: SettingWithCopyWarning: \n",
      "A value is trying to be set on a copy of a slice from a DataFrame.\n",
      "Try using .loc[row_indexer,col_indexer] = value instead\n",
      "\n",
      "See the caveats in the documentation: https://pandas.pydata.org/pandas-docs/stable/user_guide/indexing.html#returning-a-view-versus-a-copy\n",
      "  df['genres'] = df['genres'].str.replace('|',' , ')\n"
     ]
    }
   ],
   "source": [
    "links = pd.read_csv('../../../data/links.csv')\n",
    "movies = pd.read_csv('../../../data/movies.csv')\n",
    "ratings = pd.read_csv('../../../data/ratings.csv')\n",
    "tags = pd.read_csv('../../../data/tags.csv')\n",
    "new = pd.merge(links, movies)\n",
    "new_2 = pd.merge(new, ratings)\n",
    "# Drop movieId and timestamp\n",
    "tags_2 = tags.drop(columns=['movieId', 'timestamp'])\n",
    "df_pre = pd.merge(new_2, tags_2)\n",
    "# Drop null values\n",
    "df = df_pre.dropna()\n",
    "# replace | with , in the genres column\n",
    "df['genres'] = df['genres'].str.replace('|',' , ')"
   ]
  },
  {
   "cell_type": "code",
   "execution_count": 3,
   "metadata": {},
   "outputs": [
    {
     "data": {
      "text/html": [
       "<div>\n",
       "<style scoped>\n",
       "    .dataframe tbody tr th:only-of-type {\n",
       "        vertical-align: middle;\n",
       "    }\n",
       "\n",
       "    .dataframe tbody tr th {\n",
       "        vertical-align: top;\n",
       "    }\n",
       "\n",
       "    .dataframe thead th {\n",
       "        text-align: right;\n",
       "    }\n",
       "</style>\n",
       "<table border=\"1\" class=\"dataframe\">\n",
       "  <thead>\n",
       "    <tr style=\"text-align: right;\">\n",
       "      <th></th>\n",
       "      <th>movieId</th>\n",
       "      <th>imdbId</th>\n",
       "      <th>tmdbId</th>\n",
       "      <th>title</th>\n",
       "      <th>genres</th>\n",
       "      <th>userId</th>\n",
       "      <th>rating</th>\n",
       "      <th>timestamp</th>\n",
       "      <th>tag</th>\n",
       "    </tr>\n",
       "  </thead>\n",
       "  <tbody>\n",
       "    <tr>\n",
       "      <th>0</th>\n",
       "      <td>1</td>\n",
       "      <td>114709</td>\n",
       "      <td>862.0</td>\n",
       "      <td>Toy Story (1995)</td>\n",
       "      <td>Adventure , Animation , Children , Comedy , Fa...</td>\n",
       "      <td>7</td>\n",
       "      <td>4.5</td>\n",
       "      <td>1106635946</td>\n",
       "      <td>way too long</td>\n",
       "    </tr>\n",
       "    <tr>\n",
       "      <th>1</th>\n",
       "      <td>50</td>\n",
       "      <td>114814</td>\n",
       "      <td>629.0</td>\n",
       "      <td>Usual Suspects, The (1995)</td>\n",
       "      <td>Crime , Mystery , Thriller</td>\n",
       "      <td>7</td>\n",
       "      <td>4.5</td>\n",
       "      <td>1106635993</td>\n",
       "      <td>way too long</td>\n",
       "    </tr>\n",
       "    <tr>\n",
       "      <th>2</th>\n",
       "      <td>58</td>\n",
       "      <td>110877</td>\n",
       "      <td>11010.0</td>\n",
       "      <td>Postman, The (Postino, Il) (1994)</td>\n",
       "      <td>Comedy , Drama , Romance</td>\n",
       "      <td>7</td>\n",
       "      <td>3.0</td>\n",
       "      <td>1106635520</td>\n",
       "      <td>way too long</td>\n",
       "    </tr>\n",
       "    <tr>\n",
       "      <th>3</th>\n",
       "      <td>150</td>\n",
       "      <td>112384</td>\n",
       "      <td>568.0</td>\n",
       "      <td>Apollo 13 (1995)</td>\n",
       "      <td>Adventure , Drama , IMAX</td>\n",
       "      <td>7</td>\n",
       "      <td>4.5</td>\n",
       "      <td>1106635925</td>\n",
       "      <td>way too long</td>\n",
       "    </tr>\n",
       "    <tr>\n",
       "      <th>4</th>\n",
       "      <td>165</td>\n",
       "      <td>112864</td>\n",
       "      <td>1572.0</td>\n",
       "      <td>Die Hard: With a Vengeance (1995)</td>\n",
       "      <td>Action , Crime , Thriller</td>\n",
       "      <td>7</td>\n",
       "      <td>4.0</td>\n",
       "      <td>1106635987</td>\n",
       "      <td>way too long</td>\n",
       "    </tr>\n",
       "    <tr>\n",
       "      <th>...</th>\n",
       "      <td>...</td>\n",
       "      <td>...</td>\n",
       "      <td>...</td>\n",
       "      <td>...</td>\n",
       "      <td>...</td>\n",
       "      <td>...</td>\n",
       "      <td>...</td>\n",
       "      <td>...</td>\n",
       "      <td>...</td>\n",
       "    </tr>\n",
       "    <tr>\n",
       "      <th>4626861</th>\n",
       "      <td>193587</td>\n",
       "      <td>8391976</td>\n",
       "      <td>483455.0</td>\n",
       "      <td>Bungo Stray Dogs: Dead Apple (2018)</td>\n",
       "      <td>Action , Animation</td>\n",
       "      <td>184</td>\n",
       "      <td>3.5</td>\n",
       "      <td>1537110021</td>\n",
       "      <td>psychology</td>\n",
       "    </tr>\n",
       "    <tr>\n",
       "      <th>4626862</th>\n",
       "      <td>193587</td>\n",
       "      <td>8391976</td>\n",
       "      <td>483455.0</td>\n",
       "      <td>Bungo Stray Dogs: Dead Apple (2018)</td>\n",
       "      <td>Action , Animation</td>\n",
       "      <td>184</td>\n",
       "      <td>3.5</td>\n",
       "      <td>1537110021</td>\n",
       "      <td>anime</td>\n",
       "    </tr>\n",
       "    <tr>\n",
       "      <th>4626863</th>\n",
       "      <td>193587</td>\n",
       "      <td>8391976</td>\n",
       "      <td>483455.0</td>\n",
       "      <td>Bungo Stray Dogs: Dead Apple (2018)</td>\n",
       "      <td>Action , Animation</td>\n",
       "      <td>184</td>\n",
       "      <td>3.5</td>\n",
       "      <td>1537110021</td>\n",
       "      <td>comedy</td>\n",
       "    </tr>\n",
       "    <tr>\n",
       "      <th>4626864</th>\n",
       "      <td>193587</td>\n",
       "      <td>8391976</td>\n",
       "      <td>483455.0</td>\n",
       "      <td>Bungo Stray Dogs: Dead Apple (2018)</td>\n",
       "      <td>Action , Animation</td>\n",
       "      <td>184</td>\n",
       "      <td>3.5</td>\n",
       "      <td>1537110021</td>\n",
       "      <td>gintama</td>\n",
       "    </tr>\n",
       "    <tr>\n",
       "      <th>4626865</th>\n",
       "      <td>193587</td>\n",
       "      <td>8391976</td>\n",
       "      <td>483455.0</td>\n",
       "      <td>Bungo Stray Dogs: Dead Apple (2018)</td>\n",
       "      <td>Action , Animation</td>\n",
       "      <td>184</td>\n",
       "      <td>3.5</td>\n",
       "      <td>1537110021</td>\n",
       "      <td>remaster</td>\n",
       "    </tr>\n",
       "  </tbody>\n",
       "</table>\n",
       "<p>4626858 rows × 9 columns</p>\n",
       "</div>"
      ],
      "text/plain": [
       "         movieId   imdbId    tmdbId                                title  \\\n",
       "0              1   114709     862.0                     Toy Story (1995)   \n",
       "1             50   114814     629.0           Usual Suspects, The (1995)   \n",
       "2             58   110877   11010.0    Postman, The (Postino, Il) (1994)   \n",
       "3            150   112384     568.0                     Apollo 13 (1995)   \n",
       "4            165   112864    1572.0    Die Hard: With a Vengeance (1995)   \n",
       "...          ...      ...       ...                                  ...   \n",
       "4626861   193587  8391976  483455.0  Bungo Stray Dogs: Dead Apple (2018)   \n",
       "4626862   193587  8391976  483455.0  Bungo Stray Dogs: Dead Apple (2018)   \n",
       "4626863   193587  8391976  483455.0  Bungo Stray Dogs: Dead Apple (2018)   \n",
       "4626864   193587  8391976  483455.0  Bungo Stray Dogs: Dead Apple (2018)   \n",
       "4626865   193587  8391976  483455.0  Bungo Stray Dogs: Dead Apple (2018)   \n",
       "\n",
       "                                                    genres  userId  rating  \\\n",
       "0        Adventure , Animation , Children , Comedy , Fa...       7     4.5   \n",
       "1                               Crime , Mystery , Thriller       7     4.5   \n",
       "2                                 Comedy , Drama , Romance       7     3.0   \n",
       "3                                 Adventure , Drama , IMAX       7     4.5   \n",
       "4                                Action , Crime , Thriller       7     4.0   \n",
       "...                                                    ...     ...     ...   \n",
       "4626861                                 Action , Animation     184     3.5   \n",
       "4626862                                 Action , Animation     184     3.5   \n",
       "4626863                                 Action , Animation     184     3.5   \n",
       "4626864                                 Action , Animation     184     3.5   \n",
       "4626865                                 Action , Animation     184     3.5   \n",
       "\n",
       "          timestamp           tag  \n",
       "0        1106635946  way too long  \n",
       "1        1106635993  way too long  \n",
       "2        1106635520  way too long  \n",
       "3        1106635925  way too long  \n",
       "4        1106635987  way too long  \n",
       "...             ...           ...  \n",
       "4626861  1537110021    psychology  \n",
       "4626862  1537110021         anime  \n",
       "4626863  1537110021        comedy  \n",
       "4626864  1537110021       gintama  \n",
       "4626865  1537110021      remaster  \n",
       "\n",
       "[4626858 rows x 9 columns]"
      ]
     },
     "execution_count": 3,
     "metadata": {},
     "output_type": "execute_result"
    }
   ],
   "source": [
    "df"
   ]
  },
  {
   "cell_type": "code",
   "execution_count": 4,
   "metadata": {},
   "outputs": [
    {
     "name": "stdout",
     "output_type": "stream",
     "text": [
      "<class 'pandas.core.frame.DataFrame'>\n",
      "Int64Index: 4626858 entries, 0 to 4626865\n",
      "Data columns (total 9 columns):\n",
      " #   Column     Dtype  \n",
      "---  ------     -----  \n",
      " 0   movieId    int64  \n",
      " 1   imdbId     int64  \n",
      " 2   tmdbId     float64\n",
      " 3   title      object \n",
      " 4   genres     object \n",
      " 5   userId     int64  \n",
      " 6   rating     float64\n",
      " 7   timestamp  int64  \n",
      " 8   tag        object \n",
      "dtypes: float64(2), int64(4), object(3)\n",
      "memory usage: 353.0+ MB\n"
     ]
    }
   ],
   "source": [
    "df.info()"
   ]
  },
  {
   "cell_type": "code",
   "execution_count": 5,
   "metadata": {},
   "outputs": [
    {
     "data": {
      "text/html": [
       "<div>\n",
       "<style scoped>\n",
       "    .dataframe tbody tr th:only-of-type {\n",
       "        vertical-align: middle;\n",
       "    }\n",
       "\n",
       "    .dataframe tbody tr th {\n",
       "        vertical-align: top;\n",
       "    }\n",
       "\n",
       "    .dataframe thead th {\n",
       "        text-align: right;\n",
       "    }\n",
       "</style>\n",
       "<table border=\"1\" class=\"dataframe\">\n",
       "  <thead>\n",
       "    <tr style=\"text-align: right;\">\n",
       "      <th></th>\n",
       "      <th>movieId</th>\n",
       "      <th>imdbId</th>\n",
       "      <th>tmdbId</th>\n",
       "      <th>title</th>\n",
       "      <th>genres</th>\n",
       "      <th>userId</th>\n",
       "      <th>rating</th>\n",
       "      <th>timestamp</th>\n",
       "      <th>tag</th>\n",
       "    </tr>\n",
       "  </thead>\n",
       "  <tbody>\n",
       "    <tr>\n",
       "      <th>4622176</th>\n",
       "      <td>2579</td>\n",
       "      <td>154506</td>\n",
       "      <td>11660.0</td>\n",
       "      <td>Following (1998)</td>\n",
       "      <td>Crime , Mystery , Thriller</td>\n",
       "      <td>184</td>\n",
       "      <td>4.0</td>\n",
       "      <td>1537094293</td>\n",
       "      <td>black and white</td>\n",
       "    </tr>\n",
       "    <tr>\n",
       "      <th>4622177</th>\n",
       "      <td>2579</td>\n",
       "      <td>154506</td>\n",
       "      <td>11660.0</td>\n",
       "      <td>Following (1998)</td>\n",
       "      <td>Crime , Mystery , Thriller</td>\n",
       "      <td>184</td>\n",
       "      <td>4.0</td>\n",
       "      <td>1537094293</td>\n",
       "      <td>Christopher Nolan</td>\n",
       "    </tr>\n",
       "    <tr>\n",
       "      <th>4622178</th>\n",
       "      <td>2579</td>\n",
       "      <td>154506</td>\n",
       "      <td>11660.0</td>\n",
       "      <td>Following (1998)</td>\n",
       "      <td>Crime , Mystery , Thriller</td>\n",
       "      <td>184</td>\n",
       "      <td>4.0</td>\n",
       "      <td>1537094293</td>\n",
       "      <td>directorial debut</td>\n",
       "    </tr>\n",
       "    <tr>\n",
       "      <th>4622179</th>\n",
       "      <td>2579</td>\n",
       "      <td>154506</td>\n",
       "      <td>11660.0</td>\n",
       "      <td>Following (1998)</td>\n",
       "      <td>Crime , Mystery , Thriller</td>\n",
       "      <td>184</td>\n",
       "      <td>4.0</td>\n",
       "      <td>1537094293</td>\n",
       "      <td>mindfuck</td>\n",
       "    </tr>\n",
       "    <tr>\n",
       "      <th>4622180</th>\n",
       "      <td>2579</td>\n",
       "      <td>154506</td>\n",
       "      <td>11660.0</td>\n",
       "      <td>Following (1998)</td>\n",
       "      <td>Crime , Mystery , Thriller</td>\n",
       "      <td>184</td>\n",
       "      <td>4.0</td>\n",
       "      <td>1537094293</td>\n",
       "      <td>not linear</td>\n",
       "    </tr>\n",
       "    <tr>\n",
       "      <th>...</th>\n",
       "      <td>...</td>\n",
       "      <td>...</td>\n",
       "      <td>...</td>\n",
       "      <td>...</td>\n",
       "      <td>...</td>\n",
       "      <td>...</td>\n",
       "      <td>...</td>\n",
       "      <td>...</td>\n",
       "      <td>...</td>\n",
       "    </tr>\n",
       "    <tr>\n",
       "      <th>4626861</th>\n",
       "      <td>193587</td>\n",
       "      <td>8391976</td>\n",
       "      <td>483455.0</td>\n",
       "      <td>Bungo Stray Dogs: Dead Apple (2018)</td>\n",
       "      <td>Action , Animation</td>\n",
       "      <td>184</td>\n",
       "      <td>3.5</td>\n",
       "      <td>1537110021</td>\n",
       "      <td>psychology</td>\n",
       "    </tr>\n",
       "    <tr>\n",
       "      <th>4626862</th>\n",
       "      <td>193587</td>\n",
       "      <td>8391976</td>\n",
       "      <td>483455.0</td>\n",
       "      <td>Bungo Stray Dogs: Dead Apple (2018)</td>\n",
       "      <td>Action , Animation</td>\n",
       "      <td>184</td>\n",
       "      <td>3.5</td>\n",
       "      <td>1537110021</td>\n",
       "      <td>anime</td>\n",
       "    </tr>\n",
       "    <tr>\n",
       "      <th>4626863</th>\n",
       "      <td>193587</td>\n",
       "      <td>8391976</td>\n",
       "      <td>483455.0</td>\n",
       "      <td>Bungo Stray Dogs: Dead Apple (2018)</td>\n",
       "      <td>Action , Animation</td>\n",
       "      <td>184</td>\n",
       "      <td>3.5</td>\n",
       "      <td>1537110021</td>\n",
       "      <td>comedy</td>\n",
       "    </tr>\n",
       "    <tr>\n",
       "      <th>4626864</th>\n",
       "      <td>193587</td>\n",
       "      <td>8391976</td>\n",
       "      <td>483455.0</td>\n",
       "      <td>Bungo Stray Dogs: Dead Apple (2018)</td>\n",
       "      <td>Action , Animation</td>\n",
       "      <td>184</td>\n",
       "      <td>3.5</td>\n",
       "      <td>1537110021</td>\n",
       "      <td>gintama</td>\n",
       "    </tr>\n",
       "    <tr>\n",
       "      <th>4626865</th>\n",
       "      <td>193587</td>\n",
       "      <td>8391976</td>\n",
       "      <td>483455.0</td>\n",
       "      <td>Bungo Stray Dogs: Dead Apple (2018)</td>\n",
       "      <td>Action , Animation</td>\n",
       "      <td>184</td>\n",
       "      <td>3.5</td>\n",
       "      <td>1537110021</td>\n",
       "      <td>remaster</td>\n",
       "    </tr>\n",
       "  </tbody>\n",
       "</table>\n",
       "<p>4690 rows × 9 columns</p>\n",
       "</div>"
      ],
      "text/plain": [
       "         movieId   imdbId    tmdbId                                title  \\\n",
       "4622176     2579   154506   11660.0                     Following (1998)   \n",
       "4622177     2579   154506   11660.0                     Following (1998)   \n",
       "4622178     2579   154506   11660.0                     Following (1998)   \n",
       "4622179     2579   154506   11660.0                     Following (1998)   \n",
       "4622180     2579   154506   11660.0                     Following (1998)   \n",
       "...          ...      ...       ...                                  ...   \n",
       "4626861   193587  8391976  483455.0  Bungo Stray Dogs: Dead Apple (2018)   \n",
       "4626862   193587  8391976  483455.0  Bungo Stray Dogs: Dead Apple (2018)   \n",
       "4626863   193587  8391976  483455.0  Bungo Stray Dogs: Dead Apple (2018)   \n",
       "4626864   193587  8391976  483455.0  Bungo Stray Dogs: Dead Apple (2018)   \n",
       "4626865   193587  8391976  483455.0  Bungo Stray Dogs: Dead Apple (2018)   \n",
       "\n",
       "                             genres  userId  rating   timestamp  \\\n",
       "4622176  Crime , Mystery , Thriller     184     4.0  1537094293   \n",
       "4622177  Crime , Mystery , Thriller     184     4.0  1537094293   \n",
       "4622178  Crime , Mystery , Thriller     184     4.0  1537094293   \n",
       "4622179  Crime , Mystery , Thriller     184     4.0  1537094293   \n",
       "4622180  Crime , Mystery , Thriller     184     4.0  1537094293   \n",
       "...                             ...     ...     ...         ...   \n",
       "4626861          Action , Animation     184     3.5  1537110021   \n",
       "4626862          Action , Animation     184     3.5  1537110021   \n",
       "4626863          Action , Animation     184     3.5  1537110021   \n",
       "4626864          Action , Animation     184     3.5  1537110021   \n",
       "4626865          Action , Animation     184     3.5  1537110021   \n",
       "\n",
       "                       tag  \n",
       "4622176    black and white  \n",
       "4622177  Christopher Nolan  \n",
       "4622178  directorial debut  \n",
       "4622179           mindfuck  \n",
       "4622180         not linear  \n",
       "...                    ...  \n",
       "4626861         psychology  \n",
       "4626862              anime  \n",
       "4626863             comedy  \n",
       "4626864            gintama  \n",
       "4626865           remaster  \n",
       "\n",
       "[4690 rows x 9 columns]"
      ]
     },
     "execution_count": 5,
     "metadata": {},
     "output_type": "execute_result"
    }
   ],
   "source": [
    "df.loc[df['userId'] == 184]"
   ]
  },
  {
   "cell_type": "code",
   "execution_count": 6,
   "metadata": {},
   "outputs": [],
   "source": [
    "# Drop duplicates\n",
    "#df = df.drop_duplicates(subset=['movieId'])"
   ]
  },
  {
   "cell_type": "code",
   "execution_count": 7,
   "metadata": {},
   "outputs": [],
   "source": [
    "#df"
   ]
  },
  {
   "cell_type": "code",
   "execution_count": 8,
   "metadata": {},
   "outputs": [
    {
     "data": {
      "text/plain": [
       "In Netflix queue    276148\n",
       "Disney               44669\n",
       "religion             43360\n",
       "crime                37818\n",
       "superhero            30262\n",
       "                     ...  \n",
       "old                     24\n",
       "moldy                   24\n",
       "jackie chan             22\n",
       "kung fu                 22\n",
       "black hole              21\n",
       "Name: tag, Length: 1589, dtype: int64"
      ]
     },
     "execution_count": 8,
     "metadata": {},
     "output_type": "execute_result"
    }
   ],
   "source": [
    "df.tag.value_counts()"
   ]
  },
  {
   "cell_type": "code",
   "execution_count": 9,
   "metadata": {},
   "outputs": [
    {
     "data": {
      "text/plain": [
       "3.5    1074657\n",
       "4.0    1062356\n",
       "3.0     853601\n",
       "2.5     412794\n",
       "2.0     401263\n",
       "4.5     354089\n",
       "5.0     157719\n",
       "1.5     154027\n",
       "1.0      96822\n",
       "0.5      59530\n",
       "Name: rating, dtype: int64"
      ]
     },
     "execution_count": 9,
     "metadata": {},
     "output_type": "execute_result"
    }
   ],
   "source": [
    "df.rating.value_counts()"
   ]
  },
  {
   "cell_type": "code",
   "execution_count": 10,
   "metadata": {},
   "outputs": [
    {
     "data": {
      "text/plain": [
       "<AxesSubplot:>"
      ]
     },
     "execution_count": 10,
     "metadata": {},
     "output_type": "execute_result"
    },
    {
     "data": {
      "image/png": "[encoded data removed]",
      "text/plain": [
       "<Figure size 432x288 with 1 Axes>"
      ]
     },
     "metadata": {
      "needs_background": "light"
     },
     "output_type": "display_data"
    }
   ],
   "source": [
    "df.rating.value_counts().plot(kind='bar')"
   ]
  },
  {
   "cell_type": "code",
   "execution_count": 11,
   "metadata": {},
   "outputs": [],
   "source": [
    "cm = df.groupby(['title']).mean().sort_values(by='rating', ascending=False)['rating'].to_dict()"
   ]
  },
  {
   "cell_type": "code",
   "execution_count": 12,
   "metadata": {},
   "outputs": [],
   "source": [
    "cmcount = df['title'].value_counts(normalize=True).to_dict() \n",
    "#count of times this show up on the overall data"
   ]
  },
  {
   "cell_type": "code",
   "execution_count": 13,
   "metadata": {},
   "outputs": [
    {
     "data": {
      "text/plain": [
       "Text(0, 0.5, 'Weighted Rating')"
      ]
     },
     "execution_count": 13,
     "metadata": {},
     "output_type": "execute_result"
    },
    {
     "data": {
      "image/png": "[encoded data removed]",
      "text/plain": [
       "<Figure size 1080x432 with 1 Axes>"
      ]
     },
     "metadata": {
      "needs_background": "light"
     },
     "output_type": "display_data"
    }
   ],
   "source": [
    "movie = df['title'].unique()\n",
    "weighted_rating = []\n",
    "for title in movie:\n",
    "    count = cmcount[title]\n",
    "    rating = cm[title]\n",
    "    weighted_rating.append(count * rating)\n",
    "sorted_vals = sorted(list(zip(weighted_rating, movie)))\n",
    "x = [val[1] for val in sorted_vals]\n",
    "y = [val[0] for val in sorted_vals]\n",
    "plt.figure(figsize=(15,6))\n",
    "plt.bar(x[-15:], y[-15:])\n",
    "plt.xticks(rotation=90);\n",
    "plt.title('Top 15 Weighted Movie Rating', fontsize=20)\n",
    "plt.xlabel('Title of Movie', fontsize=16)\n",
    "plt.ylabel('Weighted Rating', fontsize=16)"
   ]
  },
  {
   "cell_type": "code",
   "execution_count": 14,
   "metadata": {},
   "outputs": [
    {
     "data": {
      "text/plain": [
       "0          Adventure , Animation , Children , Comedy , Fa...\n",
       "1                                 Crime , Mystery , Thriller\n",
       "2                                   Comedy , Drama , Romance\n",
       "3                                   Adventure , Drama , IMAX\n",
       "4                                  Action , Crime , Thriller\n",
       "                                 ...                        \n",
       "4626861                                   Action , Animation\n",
       "4626862                                   Action , Animation\n",
       "4626863                                   Action , Animation\n",
       "4626864                                   Action , Animation\n",
       "4626865                                   Action , Animation\n",
       "Name: genres, Length: 4626858, dtype: object"
      ]
     },
     "execution_count": 14,
     "metadata": {},
     "output_type": "execute_result"
    }
   ],
   "source": [
    "df['genres']"
   ]
  },
  {
   "cell_type": "code",
   "execution_count": 15,
   "metadata": {},
   "outputs": [
    {
     "data": {
      "text/plain": [
       "0                     Toy Story (1995)\n",
       "1           Usual Suspects, The (1995)\n",
       "2    Postman, The (Postino, Il) (1994)\n",
       "3                     Apollo 13 (1995)\n",
       "4    Die Hard: With a Vengeance (1995)\n",
       "Name: title, dtype: object"
      ]
     },
     "execution_count": 15,
     "metadata": {},
     "output_type": "execute_result"
    }
   ],
   "source": [
    "df['title'].head()"
   ]
  },
  {
   "cell_type": "code",
   "execution_count": null,
   "metadata": {},
   "outputs": [],
   "source": []
  }
 ],
 "metadata": {
  "kernelspec": {
   "display_name": "learn-env",
   "language": "python",
   "name": "learn-env"
  },
  "language_info": {
   "codemirror_mode": {
    "name": "ipython",
    "version": 3
   },
   "file_extension": ".py",
   "mimetype": "text/x-python",
   "name": "python",
   "nbconvert_exporter": "python",
   "pygments_lexer": "ipython3",
   "version": "3.8.5"
  }
 },
 "nbformat": 4,
 "nbformat_minor": 4
}
